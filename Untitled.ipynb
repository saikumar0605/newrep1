{
 "cells": [
  {
   "cell_type": "markdown",
   "id": "1c73220f",
   "metadata": {},
   "source": [
    "# Logging and Debugging"
   ]
  },
  {
   "cell_type": "raw",
   "id": "2846fb76",
   "metadata": {},
   "source": [
    "debug - its a detail info of all login data.\n",
    "info - its the information of data avaliable\n",
    "warning - it is used to throw warn if any data missing.\n",
    "error \n",
    "critical\n",
    "    "
   ]
  },
  {
   "cell_type": "code",
   "execution_count": 1,
   "id": "3f803767",
   "metadata": {},
   "outputs": [],
   "source": [
    "import logging as lg #for starting with loging you should import logging module"
   ]
  },
  {
   "cell_type": "code",
   "execution_count": 2,
   "id": "1c86d909",
   "metadata": {},
   "outputs": [],
   "source": [
    "import os"
   ]
  },
  {
   "cell_type": "raw",
   "id": "940c6ce3",
   "metadata": {},
   "source": [
    "With the logging module imported, you can use something called a “logger” to log messages that you want to see. By default, there are 5 standard levels indicating the severity of events. Each has a corresponding method that can be used to log events at that level of severity.\n",
    "\n",
    "The defined levels, in order of increasing severity, are the following:\n",
    "\n",
    "DEBUG\n",
    "INFO\n",
    "WARNING\n",
    "ERROR\n",
    "CRITICAL"
   ]
  },
  {
   "cell_type": "code",
   "execution_count": 8,
   "id": "3eef3cfc",
   "metadata": {
    "scrolled": true
   },
   "outputs": [
    {
     "name": "stdout",
     "output_type": "stream",
     "text": [
      " Volume in drive C has no label.\n",
      " Volume Serial Number is BE52-FBB2\n",
      "\n",
      " Directory of C:\\Users\\123sa\\exception hand\n",
      "\n",
      "20-08-2022  06:44    <DIR>          .\n",
      "16-08-2022  12:30    <DIR>          ..\n",
      "14-08-2022  17:14    <DIR>          .ipynb_checkpoints\n",
      "15-08-2022  15:19                 0 ineuron.db\n",
      "15-08-2022  17:23            12,288 jobdb.db\n",
      "20-08-2022  06:44    <DIR>          logg\n",
      "15-08-2022  15:17             8,192 person.db\n",
      "14-08-2022  13:25             8,192 sktech.db\n",
      "16-08-2022  12:29            38,900 sqlite3.ipynb\n",
      "06-08-2022  14:51             2,236 statspract2.ipynb\n",
      "20-08-2022  06:35                 0 test.log\n",
      "08-08-2022  20:53           101,843 t-test.ipynb\n",
      "12-08-2022  16:57    <DIR>          Untitled Folder\n",
      "20-08-2022  06:41             4,046 Untitled.ipynb\n",
      "               9 File(s)        175,697 bytes\n",
      "               5 Dir(s)  411,611,267,072 bytes free\n"
     ]
    }
   ],
   "source": [
    "ls"
   ]
  },
  {
   "cell_type": "code",
   "execution_count": 6,
   "id": "d9db7e8f",
   "metadata": {},
   "outputs": [],
   "source": [
    "os.mkdir(\"logg\")"
   ]
  },
  {
   "cell_type": "code",
   "execution_count": 3,
   "id": "5774a995",
   "metadata": {},
   "outputs": [
    {
     "data": {
      "text/plain": [
       "'C:\\\\Users\\\\123sa\\\\exception hand'"
      ]
     },
     "execution_count": 3,
     "metadata": {},
     "output_type": "execute_result"
    }
   ],
   "source": [
    "pwd()"
   ]
  },
  {
   "cell_type": "code",
   "execution_count": 4,
   "id": "265de699",
   "metadata": {},
   "outputs": [],
   "source": [
    "os.chdir(os.getcwd() + \"/\" + \"logg\")"
   ]
  },
  {
   "cell_type": "code",
   "execution_count": 5,
   "id": "9e9d065b",
   "metadata": {},
   "outputs": [],
   "source": [
    "lg.basicConfig(filename = 'test.log', level = lg.INFO, format = '%(asctime)s %(message)s')"
   ]
  },
  {
   "cell_type": "code",
   "execution_count": 16,
   "id": "f7187da7",
   "metadata": {},
   "outputs": [],
   "source": [
    "#its just like in which file name you want to store.we have just created\n",
    "#file name and in which level we want to store there are multiple ways.\n",
    "#if you click on tab you can see.\n",
    "#and important thing  is we will try to store logging always on cloude.\n",
    "#like mongodb, sqlite and many more. when we start with them you will understand \n",
    "#better  for now lets just try locally  in laptop only using file name.\n",
    "#"
   ]
  },
  {
   "cell_type": "code",
   "execution_count": 6,
   "id": "f0c56402",
   "metadata": {},
   "outputs": [],
   "source": [
    "lg.info(\"hey subscribers\")"
   ]
  },
  {
   "cell_type": "code",
   "execution_count": 7,
   "id": "57ac5cc6",
   "metadata": {},
   "outputs": [],
   "source": [
    "lg.warning(\"warning subscribe the channel\")"
   ]
  },
  {
   "cell_type": "code",
   "execution_count": 8,
   "id": "a55c5476",
   "metadata": {},
   "outputs": [],
   "source": [
    "lg.error(\"warnig is error\")"
   ]
  },
  {
   "cell_type": "code",
   "execution_count": 12,
   "id": "cd3f1cff",
   "metadata": {},
   "outputs": [],
   "source": [
    "#you all might say what is the use of this its just like writting text.\n",
    "#actully not. i am just showing for the understanding. it is actully used \n",
    "#to not or log error which occour while coding. wether its warning, runtime error.\n",
    "#it will be used in exception handling. will discuss actuall actuall error there."
   ]
  },
  {
   "cell_type": "code",
   "execution_count": 9,
   "id": "503bc8f0",
   "metadata": {},
   "outputs": [],
   "source": [
    "def test(a,b):\n",
    "    \n",
    "    try :\n",
    "        lg.info(str(a)+str(b))\n",
    "        div = a/b\n",
    "        return div\n",
    "    except Exception as e :\n",
    "        print(\"you can check you log for more into if your code will fail \")\n",
    "        lg.error(\"error has occured \")\n",
    "        lg.exception(str(e))"
   ]
  },
  {
   "cell_type": "code",
   "execution_count": 10,
   "id": "db042efc",
   "metadata": {},
   "outputs": [
    {
     "name": "stdout",
     "output_type": "stream",
     "text": [
      "you can check you log for more into if your code will fail \n"
     ]
    }
   ],
   "source": [
    "test(4,0)"
   ]
  },
  {
   "cell_type": "code",
   "execution_count": 11,
   "id": "41a70849",
   "metadata": {},
   "outputs": [
    {
     "name": "stdout",
     "output_type": "stream",
     "text": [
      "you can check you log for more into if your code will fail \n"
     ]
    }
   ],
   "source": [
    "test(1,0)"
   ]
  },
  {
   "cell_type": "code",
   "execution_count": null,
   "id": "a851f6cc",
   "metadata": {},
   "outputs": [],
   "source": []
  }
 ],
 "metadata": {
  "kernelspec": {
   "display_name": "Python 3 (ipykernel)",
   "language": "python",
   "name": "python3"
  },
  "language_info": {
   "codemirror_mode": {
    "name": "ipython",
    "version": 3
   },
   "file_extension": ".py",
   "mimetype": "text/x-python",
   "name": "python",
   "nbconvert_exporter": "python",
   "pygments_lexer": "ipython3",
   "version": "3.9.12"
  }
 },
 "nbformat": 4,
 "nbformat_minor": 5
}
